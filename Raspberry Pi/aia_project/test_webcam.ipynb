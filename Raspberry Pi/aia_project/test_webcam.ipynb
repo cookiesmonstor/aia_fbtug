{
 "cells": [
  {
   "cell_type": "markdown",
   "metadata": {},
   "source": [
    "# Test USB webcam\n",
    "\n",
    "Make sure you select correct ipython kernel 'cv'"
   ]
  },
  {
   "cell_type": "code",
   "execution_count": 1,
   "metadata": {},
   "outputs": [],
   "source": [
    "import cv2\n",
    "import numpy as np"
   ]
  },
  {
   "cell_type": "code",
   "execution_count": 2,
   "metadata": {},
   "outputs": [
    {
     "name": "stdout",
     "output_type": "stream",
     "text": [
      "Start grabbing, press a key on Live window to terminate\n",
      "Closing the camera\n",
      "bye bye!\n"
     ]
    }
   ],
   "source": [
    "cap = cv2.VideoCapture(0)\n",
    " \n",
    "if cap.isOpened() == False:\n",
    "    print('Unable to open the camera')\n",
    "else:\n",
    "    print('Start grabbing, press a key on Live window to terminate')\n",
    "    cv2.namedWindow('Live');\n",
    "    cap.set(cv2.CAP_PROP_FRAME_WIDTH,640)\n",
    "    cap.set(cv2.CAP_PROP_FRAME_HEIGHT,480)\n",
    "    \n",
    "    while( cap.isOpened() ):\n",
    "        ret,frame = cap.read()\n",
    "        if ret==False:\n",
    "            print('Unable to grab from the camera')\n",
    "            break\n",
    " \n",
    "        cv2.imshow('Live',frame)\n",
    "        #cv2.waitKey(0);\n",
    "        key = cv2.waitKey(5)\n",
    "        if key==255: key=-1 #Solve bug in 3.2.0\n",
    "        if key >= 0:\n",
    "            break\n",
    "    print('Closing the camera')\n",
    " \n",
    "cap.release()\n",
    "cv2.destroyAllWindows()\n",
    "print('bye bye!')\n",
    "quit()"
   ]
  },
  {
   "cell_type": "code",
   "execution_count": null,
   "metadata": {},
   "outputs": [],
   "source": []
  }
 ],
 "metadata": {
  "kernelspec": {
   "display_name": "cv",
   "language": "python",
   "name": "cv"
  },
  "language_info": {
   "codemirror_mode": {
    "name": "ipython",
    "version": 3
   },
   "file_extension": ".py",
   "mimetype": "text/x-python",
   "name": "python",
   "nbconvert_exporter": "python",
   "pygments_lexer": "ipython3",
   "version": "3.5.3"
  }
 },
 "nbformat": 4,
 "nbformat_minor": 2
}
