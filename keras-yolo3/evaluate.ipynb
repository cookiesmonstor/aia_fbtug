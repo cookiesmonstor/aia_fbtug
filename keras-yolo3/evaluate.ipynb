{
 "cells": [
  {
   "cell_type": "code",
   "execution_count": 1,
   "metadata": {},
   "outputs": [
    {
     "name": "stdout",
     "output_type": "stream",
     "text": [
      "/home/jovyan/YOLO/keras-yolo3\n"
     ]
    }
   ],
   "source": [
    "!pwd"
   ]
  },
  {
   "cell_type": "code",
   "execution_count": 2,
   "metadata": {},
   "outputs": [
    {
     "name": "stdout",
     "output_type": "stream",
     "text": [
      "/opt/conda/lib/python3.6/site-packages/h5py/__init__.py:36: FutureWarning: Conversion of the second argument of issubdtype from `float` to `np.floating` is deprecated. In future, it will be treated as `np.float64 == np.dtype(float).type`.\n",
      "  from ._conv import register_converters as _register_converters\n",
      "Using TensorFlow backend.\n",
      "if\n",
      "2018-12-01 00:19:09.006538: I tensorflow/core/platform/cpu_feature_guard.cc:141] Your CPU supports instructions that this TensorFlow binary was not compiled to use: SSE4.1 SSE4.2 AVX AVX2 FMA\n",
      "2018-12-01 00:19:09.603115: I tensorflow/core/common_runtime/gpu/gpu_device.cc:1405] Found device 0 with properties: \n",
      "name: GeForce GTX 1080 Ti major: 6 minor: 1 memoryClockRate(GHz): 1.582\n",
      "pciBusID: 0000:04:00.0\n",
      "totalMemory: 10.92GiB freeMemory: 10.76GiB\n",
      "2018-12-01 00:19:09.904830: I tensorflow/core/common_runtime/gpu/gpu_device.cc:1405] Found device 1 with properties: \n",
      "name: GeForce GTX 1080 Ti major: 6 minor: 1 memoryClockRate(GHz): 1.582\n",
      "pciBusID: 0000:06:00.0\n",
      "totalMemory: 10.92GiB freeMemory: 10.76GiB\n",
      "2018-12-01 00:19:10.208187: I tensorflow/core/common_runtime/gpu/gpu_device.cc:1405] Found device 2 with properties: \n",
      "name: GeForce GTX 1080 Ti major: 6 minor: 1 memoryClockRate(GHz): 1.582\n",
      "pciBusID: 0000:0c:00.0\n",
      "totalMemory: 10.92GiB freeMemory: 10.76GiB\n",
      "2018-12-01 00:19:10.562797: I tensorflow/core/common_runtime/gpu/gpu_device.cc:1405] Found device 3 with properties: \n",
      "name: GeForce GTX 1080 Ti major: 6 minor: 1 memoryClockRate(GHz): 1.582\n",
      "pciBusID: 0000:0d:00.0\n",
      "totalMemory: 10.92GiB freeMemory: 10.76GiB\n",
      "2018-12-01 00:19:10.572539: I tensorflow/core/common_runtime/gpu/gpu_device.cc:1484] Adding visible gpu devices: 0, 1, 2, 3\n",
      "2018-12-01 00:19:11.746800: I tensorflow/core/common_runtime/gpu/gpu_device.cc:965] Device interconnect StreamExecutor with strength 1 edge matrix:\n",
      "2018-12-01 00:19:11.746867: I tensorflow/core/common_runtime/gpu/gpu_device.cc:971]      0 1 2 3 \n",
      "2018-12-01 00:19:11.746879: I tensorflow/core/common_runtime/gpu/gpu_device.cc:984] 0:   N Y Y Y \n",
      "2018-12-01 00:19:11.746887: I tensorflow/core/common_runtime/gpu/gpu_device.cc:984] 1:   Y N Y Y \n",
      "2018-12-01 00:19:11.746895: I tensorflow/core/common_runtime/gpu/gpu_device.cc:984] 2:   Y Y N Y \n",
      "2018-12-01 00:19:11.746903: I tensorflow/core/common_runtime/gpu/gpu_device.cc:984] 3:   Y Y Y N \n",
      "2018-12-01 00:19:11.747743: I tensorflow/core/common_runtime/gpu/gpu_device.cc:1097] Created TensorFlow device (/job:localhost/replica:0/task:0/device:GPU:0 with 10405 MB memory) -> physical GPU (device: 0, name: GeForce GTX 1080 Ti, pci bus id: 0000:04:00.0, compute capability: 6.1)\n",
      "2018-12-01 00:19:11.900416: I tensorflow/core/common_runtime/gpu/gpu_device.cc:1097] Created TensorFlow device (/job:localhost/replica:0/task:0/device:GPU:1 with 10405 MB memory) -> physical GPU (device: 1, name: GeForce GTX 1080 Ti, pci bus id: 0000:06:00.0, compute capability: 6.1)\n",
      "2018-12-01 00:19:12.052094: I tensorflow/core/common_runtime/gpu/gpu_device.cc:1097] Created TensorFlow device (/job:localhost/replica:0/task:0/device:GPU:2 with 10405 MB memory) -> physical GPU (device: 2, name: GeForce GTX 1080 Ti, pci bus id: 0000:0c:00.0, compute capability: 6.1)\n",
      "2018-12-01 00:19:12.201132: I tensorflow/core/common_runtime/gpu/gpu_device.cc:1097] Created TensorFlow device (/job:localhost/replica:0/task:0/device:GPU:3 with 10405 MB memory) -> physical GPU (device: 3, name: GeForce GTX 1080 Ti, pci bus id: 0000:0d:00.0, compute capability: 6.1)\n",
      "/opt/conda/lib/python3.6/site-packages/keras/engine/saving.py:269: UserWarning: No training configuration found in save file: the model was *not* compiled. Compile it manually.\n",
      "  warnings.warn('No training configuration found in save file: '\n",
      "0_pepper_flower: 0.4500\n",
      "1_pepper_young: 0.5874\n",
      "2_pepper_matured: 0.2815\n",
      "3_pepper_covered: 0.3522\n",
      "mAP: 0.4178\n"
     ]
    }
   ],
   "source": [
    "!python evaluate.py -c config.json"
   ]
  },
  {
   "cell_type": "code",
   "execution_count": null,
   "metadata": {},
   "outputs": [],
   "source": []
  }
 ],
 "metadata": {
  "kernelspec": {
   "display_name": "Python 3",
   "language": "python",
   "name": "python3"
  },
  "language_info": {
   "codemirror_mode": {
    "name": "ipython",
    "version": 3
   },
   "file_extension": ".py",
   "mimetype": "text/x-python",
   "name": "python",
   "nbconvert_exporter": "python",
   "pygments_lexer": "ipython3",
   "version": "3.6.6"
  }
 },
 "nbformat": 4,
 "nbformat_minor": 2
}
