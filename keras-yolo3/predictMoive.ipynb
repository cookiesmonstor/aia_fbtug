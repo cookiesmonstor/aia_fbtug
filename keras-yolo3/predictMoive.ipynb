{
 "cells": [
  {
   "cell_type": "code",
   "execution_count": 8,
   "metadata": {},
   "outputs": [
    {
     "name": "stdout",
     "output_type": "stream",
     "text": [
      "/home/jovyan/YOLO/keras-yolo3\n"
     ]
    }
   ],
   "source": [
    "!pwd"
   ]
  },
  {
   "cell_type": "code",
   "execution_count": 9,
   "metadata": {},
   "outputs": [
    {
     "name": "stdout",
     "output_type": "stream",
     "text": [
      "/opt/conda/lib/python3.6/site-packages/h5py/__init__.py:36: FutureWarning: Conversion of the second argument of issubdtype from `float` to `np.floating` is deprecated. In future, it will be treated as `np.float64 == np.dtype(float).type`.\n",
      "  from ._conv import register_converters as _register_converters\n",
      "Using TensorFlow backend.\n",
      "2018-12-01 03:24:06.515221: I tensorflow/core/platform/cpu_feature_guard.cc:141] Your CPU supports instructions that this TensorFlow binary was not compiled to use: SSE4.1 SSE4.2 AVX AVX2 FMA\n",
      "2018-12-01 03:24:07.074628: I tensorflow/core/common_runtime/gpu/gpu_device.cc:1405] Found device 0 with properties: \n",
      "name: GeForce GTX 1080 Ti major: 6 minor: 1 memoryClockRate(GHz): 1.582\n",
      "pciBusID: 0000:04:00.0\n",
      "totalMemory: 10.92GiB freeMemory: 10.76GiB\n",
      "2018-12-01 03:24:07.383287: I tensorflow/core/common_runtime/gpu/gpu_device.cc:1405] Found device 1 with properties: \n",
      "name: GeForce GTX 1080 Ti major: 6 minor: 1 memoryClockRate(GHz): 1.582\n",
      "pciBusID: 0000:06:00.0\n",
      "totalMemory: 10.92GiB freeMemory: 10.76GiB\n",
      "2018-12-01 03:24:07.660203: I tensorflow/core/common_runtime/gpu/gpu_device.cc:1405] Found device 2 with properties: \n",
      "name: GeForce GTX 1080 Ti major: 6 minor: 1 memoryClockRate(GHz): 1.582\n",
      "pciBusID: 0000:0c:00.0\n",
      "totalMemory: 10.92GiB freeMemory: 10.76GiB\n",
      "2018-12-01 03:24:07.971812: I tensorflow/core/common_runtime/gpu/gpu_device.cc:1405] Found device 3 with properties: \n",
      "name: GeForce GTX 1080 Ti major: 6 minor: 1 memoryClockRate(GHz): 1.582\n",
      "pciBusID: 0000:0d:00.0\n",
      "totalMemory: 10.92GiB freeMemory: 10.76GiB\n",
      "2018-12-01 03:24:07.980946: I tensorflow/core/common_runtime/gpu/gpu_device.cc:1484] Adding visible gpu devices: 0, 1, 2, 3\n",
      "2018-12-01 03:24:09.114785: I tensorflow/core/common_runtime/gpu/gpu_device.cc:965] Device interconnect StreamExecutor with strength 1 edge matrix:\n",
      "2018-12-01 03:24:09.114849: I tensorflow/core/common_runtime/gpu/gpu_device.cc:971]      0 1 2 3 \n",
      "2018-12-01 03:24:09.114861: I tensorflow/core/common_runtime/gpu/gpu_device.cc:984] 0:   N Y Y Y \n",
      "2018-12-01 03:24:09.114869: I tensorflow/core/common_runtime/gpu/gpu_device.cc:984] 1:   Y N Y Y \n",
      "2018-12-01 03:24:09.114879: I tensorflow/core/common_runtime/gpu/gpu_device.cc:984] 2:   Y Y N Y \n",
      "2018-12-01 03:24:09.114887: I tensorflow/core/common_runtime/gpu/gpu_device.cc:984] 3:   Y Y Y N \n",
      "2018-12-01 03:24:09.115678: I tensorflow/core/common_runtime/gpu/gpu_device.cc:1097] Created TensorFlow device (/job:localhost/replica:0/task:0/device:GPU:0 with 10405 MB memory) -> physical GPU (device: 0, name: GeForce GTX 1080 Ti, pci bus id: 0000:04:00.0, compute capability: 6.1)\n",
      "2018-12-01 03:24:09.269059: I tensorflow/core/common_runtime/gpu/gpu_device.cc:1097] Created TensorFlow device (/job:localhost/replica:0/task:0/device:GPU:1 with 10405 MB memory) -> physical GPU (device: 1, name: GeForce GTX 1080 Ti, pci bus id: 0000:06:00.0, compute capability: 6.1)\n",
      "2018-12-01 03:24:09.420572: I tensorflow/core/common_runtime/gpu/gpu_device.cc:1097] Created TensorFlow device (/job:localhost/replica:0/task:0/device:GPU:2 with 10405 MB memory) -> physical GPU (device: 2, name: GeForce GTX 1080 Ti, pci bus id: 0000:0c:00.0, compute capability: 6.1)\n",
      "2018-12-01 03:24:09.570298: I tensorflow/core/common_runtime/gpu/gpu_device.cc:1097] Created TensorFlow device (/job:localhost/replica:0/task:0/device:GPU:3 with 10405 MB memory) -> physical GPU (device: 3, name: GeForce GTX 1080 Ti, pci bus id: 0000:0d:00.0, compute capability: 6.1)\n",
      "/opt/conda/lib/python3.6/site-packages/keras/engine/saving.py:269: UserWarning: No training configuration found in save file: the model was *not* compiled. Compile it manually.\n",
      "  warnings.warn('No training configuration found in save file: '\n",
      "./input/IMG_6100.JPG\n",
      "./input/IMG_6071.JPG\n",
      "./input/IMG_5965.JPG\n",
      "./input/IMG_5710.JPG\n",
      "./input/IMG_6001.JPG\n",
      "./input/IMG_6095.JPG\n",
      "./input/IMG_6115.JPG\n",
      "./input/IMG_5924.JPG\n",
      "./input/IMG_5948.JPG\n",
      "./input/IMG_5974.JPG\n",
      "./input/IMG_6499.JPG\n"
     ]
    }
   ],
   "source": [
    "!python predict.py -c config.json -i ./input/"
   ]
  },
  {
   "cell_type": "code",
   "execution_count": null,
   "metadata": {},
   "outputs": [],
   "source": []
  }
 ],
 "metadata": {
  "kernelspec": {
   "display_name": "Python 3",
   "language": "python",
   "name": "python3"
  },
  "language_info": {
   "codemirror_mode": {
    "name": "ipython",
    "version": 3
   },
   "file_extension": ".py",
   "mimetype": "text/x-python",
   "name": "python",
   "nbconvert_exporter": "python",
   "pygments_lexer": "ipython3",
   "version": "3.6.6"
  }
 },
 "nbformat": 4,
 "nbformat_minor": 2
}
