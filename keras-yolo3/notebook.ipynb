{
 "cells": [
  {
   "cell_type": "markdown",
   "metadata": {},
   "source": [
    "training.ipynb\n",
    "!python train.py -c config.json\n",
    "\n",
    "config.json:\n",
    "  model\n",
    "    min_input_size:416/608\n",
    "    max_input_size:416/608\n",
    "    anchors:16,26, 28,48, 40,63, 43,37, 47,86, 64,84, 69,113, 88,139, 119,191  # 416\n",
    "            21,35, 42,61, 54,90, 68,121, 86,82, 92,134, 103,169, 130,207, 177,285 # 608\n",
    "    labels:\"0_pepper_flower\", \"1_pepper_young\", \"2_pepper_matured\", \"3_pepper_covered\"\n",
    "  train\n",
    "    batch_size:\n",
    "    subdivisions:\n",
    "    \n",
    "    \n",
    "mAP(Mean Average Precision)\n",
    "# 416\n",
    "train\n",
    "    batch_size:16\n",
    "    subdivisions:4\n",
    "0_pepper_flower: 0.0000\n",
    "1_pepper_young: 0.6345\n",
    "2_pepper_matured: 0.6305\n",
    "3_pepper_covered: 0.3568\n",
    "mAP: 0.4054\n",
    "# 608\n",
    "train\n",
    "    batch_size:8\n",
    "    subdivisions:2\n",
    "0_pepper_flower: 0.4988\n",
    "1_pepper_young: 0.6317\n",
    "2_pepper_matured: 0.3863\n",
    "3_pepper_covered: 0.3054\n",
    "mAP: 0.4556\n"
   ]
  }
 ],
 "metadata": {
  "kernelspec": {
   "display_name": "Python 3",
   "language": "python",
   "name": "python3"
  },
  "language_info": {
   "codemirror_mode": {
    "name": "ipython",
    "version": 3
   },
   "file_extension": ".py",
   "mimetype": "text/x-python",
   "name": "python",
   "nbconvert_exporter": "python",
   "pygments_lexer": "ipython3",
   "version": "3.6.6"
  }
 },
 "nbformat": 4,
 "nbformat_minor": 2
}
